{
 "cells": [
  {
   "cell_type": "code",
   "execution_count": 1,
   "metadata": {},
   "outputs": [
    {
     "name": "stderr",
     "output_type": "stream",
     "text": [
      "/Users/victorgeadah_maciii/anaconda3/envs/fi_gp/lib/python3.10/site-packages/tqdm/auto.py:21: TqdmWarning: IProgress not found. Please update jupyter and ipywidgets. See https://ipywidgets.readthedocs.io/en/stable/user_install.html\n",
      "  from .autonotebook import tqdm as notebook_tqdm\n"
     ]
    }
   ],
   "source": [
    "# %%\n",
    "# -*- coding: utf-8 -*-\n",
    "\"\"\"\n",
    "@author: Amin\n",
    "\"\"\"\n",
    "\n",
    "import jax.random as jxr\n",
    "import jax.numpy as jnp\n",
    "\n",
    "import sys\n",
    "sys.path.append('../')\n",
    "\n",
    "import loader\n",
    "import utils\n",
    "import visualizations\n",
    "import models\n",
    "import inference\n",
    "\n",
    "%load_ext autoreload\n",
    "%autoreload 2"
   ]
  },
  {
   "cell_type": "code",
   "execution_count": 87,
   "metadata": {},
   "outputs": [],
   "source": [
    "# Path to trained RNN\n",
    "data_params = {\n",
    "    'file': '/mnt/home/anejatbakhsh/Desktop/Projects/DSA/results/configs/SVN-RNN_01_0.00_64/states_io.npy',\n",
    "    'props':{'train':.8,'test':.1,'validation':.1},\n",
    "    'seeds':{'train':2,'test':0,'validation':3}\n",
    "}\n",
    "\n",
    "dataloader = loader.RNNData(data_params)\n",
    "y,_ = dataloader.load_train_data()\n",
    "\n",
    "y = y[:,::2]\n",
    "\n",
    "# Covariates include velocity and inputs\n",
    "# Used for conditioning A, b, L to be functions of covariates\n",
    "ts = jnp.stack((\n",
    "    dataloader.data['vel_train'][:,1::2,0],\n",
    "    dataloader.data['pos_train'][:,1::2,0]\n",
    "),axis=-1)\n",
    "\n"
   ]
  },
  {
   "cell_type": "code",
   "execution_count": null,
   "metadata": {},
   "outputs": [],
   "source": [
    "visualizations.plot_signals(\n",
    "    [y[0]],\n",
    "    titlestr='Trial'\n",
    ")\n",
    "\n",
    "visualizations.plot_states(\n",
    "    [y[0],y[1]],\n",
    "    ['y','y'],\n",
    "    legend=False\n",
    ")"
   ]
  },
  {
   "cell_type": "code",
   "execution_count": 90,
   "metadata": {},
   "outputs": [],
   "source": [
    "# Define model\n",
    "model_params = {\n",
    "    'D': 2,\n",
    "    'wgp': {\n",
    "        'basis': 'T1_basis',\n",
    "        'params':{\n",
    "            'N': 5,\n",
    "            'sigma': .5,\n",
    "            'kappa': .1,\n",
    "            'period': 1.,\n",
    "            # 'period2': 2*jnp.pi\n",
    "        }\n",
    "    },\n",
    "    'seed': 0\n",
    "}\n",
    "\n",
    "basis_funcs = eval('utils.'+model_params['wgp']['basis'])(**model_params['wgp']['params'])\n",
    "\n",
    "B,T,N = y.shape\n",
    "\n",
    "A_prior = models.WeightSpaceGaussianProcess(basis_funcs, D1=model_params['D'], D2=model_params['D'])\n",
    "b_prior = models.WeightSpaceGaussianProcess(basis_funcs, D1=model_params['D'], D2=1)\n",
    "C_prior = models.WeightSpaceGaussianProcess(basis_funcs, D1=N, D2=model_params['D'])"
   ]
  },
  {
   "cell_type": "code",
   "execution_count": null,
   "metadata": {},
   "outputs": [],
   "source": [
    "print(ts.shape)\n",
    "print(y.shape)"
   ]
  },
  {
   "cell_type": "code",
   "execution_count": null,
   "metadata": {},
   "outputs": [],
   "source": [
    "# Fit model\n",
    "seed = model_params['seed']\n",
    "A_key, b_key, C_key = jxr.split(jxr.PRNGKey(seed), 3)\n",
    "\n",
    "\n",
    "initial_params = models.ParamswGPLDS(\n",
    "    dynamics_gp_weights = A_prior.sample_weights(A_key),\n",
    "    Q = 0.05 * jnp.eye(model_params['D']),\n",
    "    R = 0.05 * jnp.eye(N),\n",
    "    m0 = jnp.zeros(model_params['D']),\n",
    "    S0 = jnp.eye(model_params['D']),\n",
    "    emissions_gp_weights = None, # C_prior.sample_weights(C_key),\n",
    "    bias_gp_weights=b_prior.sample_weights(A_key),\n",
    "    Cs = jnp.tile(jxr.normal(C_key, (N, 2)), (T, 1, 1)),\n",
    "    bs = None, # b_prior.sample(b_key, conditions).squeeze(),\n",
    ")\n",
    "\n",
    "model = models.wGPLDS(\n",
    "    params=initial_params,\n",
    "    wgps={\n",
    "        'A': A_prior, \n",
    "        'b': b_prior,\n",
    "        'C': None,\n",
    "    },\n",
    "    state_dim=model_params['D'], \n",
    "    emission_dim=N,\n",
    ")\n",
    "\n",
    "log_probs = inference.fit_em(\n",
    "    model, \n",
    "    emissions=y[:,1:],\n",
    "    conditions=ts[:,:,1],\n",
    "    num_iters=500\n",
    ")\n",
    "\n",
    "visualizations.plot_loss(log_probs,ylabel='log prob')"
   ]
  },
  {
   "cell_type": "code",
   "execution_count": null,
   "metadata": {},
   "outputs": [],
   "source": [
    "print(y.shape)\n",
    "print(ts.shape)"
   ]
  },
  {
   "cell_type": "code",
   "execution_count": 94,
   "metadata": {},
   "outputs": [],
   "source": [
    "params = model.params\n",
    "\n",
    "if params.bs is None:\n",
    "    params = params._replace(bs = b_prior(params.bias_gp_weights, ts[0,:,1]).squeeze())\n",
    "if params.Cs is None:\n",
    "    params = params._replace(Cs = C_prior(params.emissions_gp_weights, ts[0,:,1].squeeze()))\n",
    "if params.Cs.ndim == 2:\n",
    "    params = params._replace(Cs = jnp.tile(params.Cs[None, :, :], (T, 1, 1)))"
   ]
  },
  {
   "cell_type": "code",
   "execution_count": 98,
   "metadata": {},
   "outputs": [],
   "source": [
    "# Inferred parameters \n",
    "_, (filtered_means, _), (smoothed_means, smoothed_covs, _) = model.smoother(\n",
    "    params, \n",
    "    emissions = y[0],\n",
    "    inputs = ts[0,:,1],\n",
    ")\n",
    "\n",
    "reconstructed_ys = jnp.einsum('tnl,tl->tn', params.Cs, smoothed_means)\n",
    "reconstructed_ys_covs = jnp.einsum('tnl,tlk,tmk->tnm', params.Cs, smoothed_covs, params.Cs)\n",
    "\n",
    "_As = A_prior(params.dynamics_gp_weights, ts[0,:,1])\n",
    "_bs = b_prior(params.bias_gp_weights, ts[0,:,1])"
   ]
  },
  {
   "cell_type": "code",
   "execution_count": null,
   "metadata": {},
   "outputs": [],
   "source": [
    "visualizations.plot_signals(\n",
    "    [y[0],reconstructed_ys],\n",
    "    titlestr='Observations',labels=['True','Reconstructed']\n",
    ")\n",
    "\n",
    "visualizations.plot_signals(\n",
    "    [smoothed_means],\n",
    "    titlestr='Latents',labels=['Reconstructed']\n",
    ")"
   ]
  },
  {
   "cell_type": "code",
   "execution_count": null,
   "metadata": {},
   "outputs": [],
   "source": [
    "file = '../results/wgp_rnn/'\n",
    "\n",
    "visualizations.time_var_dynamics(\n",
    "    [_As-jnp.eye(2)[None]],\n",
    "    bs=[ _bs[:,:,0]],\n",
    "    titlestr='Inferred',\n",
    "    save=False,\n",
    "    scale=1e-1,\n",
    "    xlim=[-3,3],\n",
    "    ylim=[-3,3],\n",
    "    file=file+'A_true'\n",
    ")"
   ]
  },
  {
   "cell_type": "code",
   "execution_count": null,
   "metadata": {},
   "outputs": [],
   "source": [
    "visualizations.visualize_pc(\n",
    "    reconstructed_ys[:,None],reconstructed_ys_covs,\n",
    "    pc=y[0][None],\n",
    "    linewidth=1,\n",
    "    titlestr='Inferred'\n",
    ")"
   ]
  },
  {
   "cell_type": "code",
   "execution_count": null,
   "metadata": {},
   "outputs": [],
   "source": [
    "grid_t = jnp.linspace(-1,1,len(ts[0]))\n",
    "grid_As = A_prior(params.dynamics_gp_weights, grid_t)\n",
    "grid_bs = b_prior(params.bias_gp_weights, grid_t)\n",
    "\n",
    "file = '../../results/wgp_rnn/'\n",
    "\n",
    "visualizations.time_var_dynamics(\n",
    "    [grid_As-jnp.eye(2)[None]],\n",
    "    bs=[grid_bs[:,:,0]],\n",
    "    titlestr='Inferred',\n",
    "    save=True,\n",
    "    scale=1e-1,\n",
    "    xlim=[-3,3],\n",
    "    ylim=[-3,3],\n",
    "    file=file+'A_true'\n",
    ")"
   ]
  }
 ],
 "metadata": {
  "kernelspec": {
   "display_name": "gplds",
   "language": "python",
   "name": "gplds"
  },
  "language_info": {
   "codemirror_mode": {
    "name": "ipython",
    "version": 3
   },
   "file_extension": ".py",
   "mimetype": "text/x-python",
   "name": "python",
   "nbconvert_exporter": "python",
   "pygments_lexer": "ipython3",
   "version": "3.10.14"
  }
 },
 "nbformat": 4,
 "nbformat_minor": 2
}
